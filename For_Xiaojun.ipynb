{
 "cells": [
  {
   "cell_type": "code",
   "execution_count": 8,
   "metadata": {},
   "outputs": [],
   "source": [
    "from edgar import *"
   ]
  },
  {
   "cell_type": "code",
   "execution_count": 10,
   "metadata": {},
   "outputs": [],
   "source": [
    "menu_key1 = 'financial statements'\n",
    "menu_key2 = 'equit'"
   ]
  },
  {
   "cell_type": "code",
   "execution_count": 11,
   "metadata": {},
   "outputs": [
    {
     "name": "stdout",
     "output_type": "stream",
     "text": [
      "loading master_index from database\n"
     ]
    },
    {
     "ename": "ModuleNotFoundError",
     "evalue": "No module named 'pandas.indexes'",
     "output_type": "error",
     "traceback": [
      "\u001b[0;31m---------------------------------------------------------------------------\u001b[0m",
      "\u001b[0;31mModuleNotFoundError\u001b[0m                       Traceback (most recent call last)",
      "\u001b[0;32m<ipython-input-11-6d8d5120b0aa>\u001b[0m in \u001b[0;36m<module>\u001b[0;34m()\u001b[0m\n\u001b[1;32m      5\u001b[0m         \u001b[0mprint\u001b[0m\u001b[0;34m(\u001b[0m\u001b[0;34m'loading master_index from database'\u001b[0m\u001b[0;34m)\u001b[0m\u001b[0;34m\u001b[0m\u001b[0m\n\u001b[1;32m      6\u001b[0m         \u001b[0;32mwith\u001b[0m \u001b[0mopen\u001b[0m\u001b[0;34m(\u001b[0m\u001b[0mcompany_list_fname\u001b[0m\u001b[0;34m,\u001b[0m \u001b[0;34m\"rb\"\u001b[0m\u001b[0;34m)\u001b[0m \u001b[0;32mas\u001b[0m \u001b[0mf\u001b[0m\u001b[0;34m:\u001b[0m\u001b[0;34m\u001b[0m\u001b[0m\n\u001b[0;32m----> 7\u001b[0;31m                 \u001b[0mcompany_list_db\u001b[0m \u001b[0;34m=\u001b[0m \u001b[0mpickle\u001b[0m\u001b[0;34m.\u001b[0m\u001b[0mload\u001b[0m\u001b[0;34m(\u001b[0m\u001b[0mf\u001b[0m\u001b[0;34m)\u001b[0m\u001b[0;34m\u001b[0m\u001b[0m\n\u001b[0m\u001b[1;32m      8\u001b[0m \u001b[0;32melse\u001b[0m\u001b[0;34m:\u001b[0m\u001b[0;34m\u001b[0m\u001b[0m\n\u001b[1;32m      9\u001b[0m         \u001b[0mcompany_list_db\u001b[0m \u001b[0;34m=\u001b[0m \u001b[0mpd\u001b[0m\u001b[0;34m.\u001b[0m\u001b[0mDataFrame\u001b[0m\u001b[0;34m(\u001b[0m\u001b[0mcolumns\u001b[0m \u001b[0;34m=\u001b[0m \u001b[0mcompany_list\u001b[0m\u001b[0;34m.\u001b[0m\u001b[0mcolumns\u001b[0m\u001b[0;34m)\u001b[0m\u001b[0;34m\u001b[0m\u001b[0m\n",
      "\u001b[0;31mModuleNotFoundError\u001b[0m: No module named 'pandas.indexes'"
     ]
    }
   ],
   "source": [
    "''' load company_filing DataBase '''\n",
    "company_list_dir = '/'.join(master_index.index_save_dir.split('/')[0:-2]) + '/'\n",
    "company_list_fname = company_list_dir + 'db_company_filing.pkl'\n",
    "if os.path.isfile(company_list_fname) == True:\n",
    "\tprint('loading master_index from database')\n",
    "\twith open(company_list_fname, \"rb\") as f:\n",
    "\t\tcompany_list_db = pickle.load(f)\n",
    "else:\n",
    "\tcompany_list_db = pd.DataFrame(columns = company_list.columns)"
   ]
  },
  {
   "cell_type": "code",
   "execution_count": null,
   "metadata": {
    "collapsed": true
   },
   "outputs": [],
   "source": [
    "company_list = company_list_db[ company_list_db['cik'] == '320193' ]\n",
    "#company_list = company_list_db[ company_list_db['accession'] == '0001193125-09-214859' ] \n",
    "#company_list = company_list_db.iloc[-5000:]\n",
    "#company_list = company_list_db\n",
    "print(company_list)\n"
   ]
  },
  {
   "cell_type": "code",
   "execution_count": null,
   "metadata": {
    "collapsed": true
   },
   "outputs": [],
   "source": [
    "\n",
    "''' loop through the company_list and perform keyword search'''\n",
    "for i  in range(len(company_list)):\n",
    "\tcompany = company_list.iloc[i]\n",
    "\tprint(company.cik + '\\t' + company.company_name + '\\t' + company.date_filed)\n",
    "\n",
    "\t### if interactiveURLXBRL doesn't exist\n",
    "\tif len( company.url_IntActDict ) == 0:\n",
    "\t\tinput_url = company.url_html\n",
    "\t\tweb = webDownloader([], input_url)\n",
    "        print(web.local_folder_dir)\n",
    "        \n",
    "\t\tpage = web.read() #web.readlines()\n",
    "\t\ttext = remove_tags(page)\n",
    "\t\t\n",
    "\t### if interactiveURLXBRL exists\n",
    "\telse:\n",
    "\t\t###company.url_IntActDict is a dict converted to string\n",
    "\t\t### use eval() to convert back to dict\n",
    "\t\turl_IntActDict = eval(company.url_IntActDict)\n",
    "\t\tfor cat1_key in url_IntActDict.keys():\n",
    "\t\t\tfor cat2_key in url_IntActDict[cat1_key]:\n",
    "\t\t\t\tif (menu_key1 == cat1_key.lower()) and (menu_key2 in cat2_key.lower()):\n",
    "\n",
    "\t\t\t\t\tprint(company.company_name, cat1_key, cat2_key)\n",
    "\t\t\t\t\t###read file content from given URL\n",
    "\t\t\t\t\tinput_url = url_IntActDict[cat1_key][cat2_key]\n",
    "\t\t\t\t\tweb = webDownloader([], input_url)\n",
    "\t\t\t\t\tpage = web.read()\n",
    "\t\t\t\t\ttext = remove_tags(page)\n",
    "\t\t\t\t\t\n"
   ]
  }
 ],
 "metadata": {
  "kernelspec": {
   "display_name": "Python 2",
   "language": "python",
   "name": "python2"
  },
  "language_info": {
   "codemirror_mode": {
    "name": "ipython",
    "version": 3
   },
   "file_extension": ".py",
   "mimetype": "text/x-python",
   "name": "python",
   "nbconvert_exporter": "python",
   "pygments_lexer": "ipython3",
   "version": "3.6.1"
  }
 },
 "nbformat": 4,
 "nbformat_minor": 2
}
